{
  "nbformat": 4,
  "nbformat_minor": 0,
  "metadata": {
    "colab": {
      "provenance": [],
      "authorship_tag": "ABX9TyOxb0kGQ0ZPAyn5/Pp3mT9X",
      "include_colab_link": true
    },
    "kernelspec": {
      "name": "python3",
      "display_name": "Python 3"
    },
    "language_info": {
      "name": "python"
    }
  },
  "cells": [
    {
      "cell_type": "markdown",
      "metadata": {
        "id": "view-in-github",
        "colab_type": "text"
      },
      "source": [
        "<a href=\"https://colab.research.google.com/github/yashwanthbooram/INT254/blob/main/unit_2.ipynb\" target=\"_parent\"><img src=\"https://colab.research.google.com/assets/colab-badge.svg\" alt=\"Open In Colab\"/></a>"
      ]
    },
    {
      "cell_type": "code",
      "execution_count": null,
      "metadata": {
        "id": "OdHX8zwe0Sc_"
      },
      "outputs": [],
      "source": [
        "import pandas as pd\n",
        "data=({'A':[None,None,3,10], 'B': [7,9,None,None,], 'C':[15,None,12,20]})\n",
        "df =pd.DataFrame(data)\n",
        "df_filled=df.fillna(method='ffill')\n",
        "print(\"Original dataframe\\n\",df)\n",
        "print(\"Updated dataframe\\n\",df_filled)"
      ]
    },
    {
      "cell_type": "code",
      "source": [
        "#Linear Interpolation of Missing Data in a DataFrame\n",
        "import pandas as pd\n",
        "\n",
        "data = {'A': [None, 10, 20, 30], 'a': [15, None, 16, None]}\n",
        "df = pd.DataFrame(data)\n",
        "df_filled = df.interpolate(method='linear')\n",
        "\n",
        "print(\"Original dataframe\\n\", df)\n",
        "print(\"Updated dataframe\\n\", df_filled)"
      ],
      "metadata": {
        "id": "Fo4iN0iZ4Cu8"
      },
      "execution_count": null,
      "outputs": []
    },
    {
      "cell_type": "code",
      "source": [
        "#Removing Rows with Missing Data from a DataFrame\n",
        "import pandas as pd\n",
        "\n",
        "data = {'A': [None, 10, 20, 30], 'a': [15, None, 16, None]}\n",
        "df = pd.DataFrame(data)\n",
        "df_filled = df.dropna(how='any')\n",
        "print(\"Original dataframe\\n\", df)\n",
        "print(\"Updated dataframe\\n\", df_filled)"
      ],
      "metadata": {
        "id": "QjG26wLQApya"
      },
      "execution_count": null,
      "outputs": []
    },
    {
      "cell_type": "code",
      "source": [
        "#Dropping rows if all values at rows are missing\n",
        "import pandas as pd\n",
        "data={'A':[None,None,None,None,None],'B':[None,None,None,None,None]}\n",
        "df = pd.DataFrame(data)\n",
        "df_dropped = df.dropna(how='all')\n",
        "print(\"Original DataFrame:\\n\", df)\n",
        "print(\"Updated DataFrame:\\n\", df_dropped)"
      ],
      "metadata": {
        "id": "girIqMevCasm"
      },
      "execution_count": null,
      "outputs": []
    },
    {
      "cell_type": "code",
      "source": [
        "#Creating a DataFrame from a Dictionary with String Columns\n",
        "import pandas as pd\n",
        "\n",
        "data = {'Name': ['Sheldon', 'Penny', 'Amy', 'Penny', 'Raj', 'Sheldon'],\n",
        "       'Episodes': [42, 24, 31, 29, 37, 40],\n",
        "       'Gender': ['Male', 'Female', 'Female', 'Female', 'Male', 'Male']}\n",
        "\n",
        "df = pd.DataFrame(data, columns=['Name', 'Episodes', 'Gender'])\n",
        "df_gender=pd.get_dummies(df['Gender'])\n",
        "df_new=pd.concat([df,df_gender],axis=1)\n",
        "\n",
        "print(df)\n",
        "print(df_new)"
      ],
      "metadata": {
        "colab": {
          "base_uri": "https://localhost:8080/"
        },
        "id": "PIpZIWtcEu3j",
        "outputId": "51a2238e-5c1d-4a1e-8476-f99fa46b46be"
      },
      "execution_count": null,
      "outputs": [
        {
          "output_type": "stream",
          "name": "stdout",
          "text": [
            "      Name  Episodes  Gender\n",
            "0  Sheldon        42    Male\n",
            "1    Penny        24  Female\n",
            "2      Amy        31  Female\n",
            "3    Penny        29  Female\n",
            "4      Raj        37    Male\n",
            "5  Sheldon        40    Male\n",
            "      Name  Episodes  Gender  Female  Male\n",
            "0  Sheldon        42    Male       0     1\n",
            "1    Penny        24  Female       1     0\n",
            "2      Amy        31  Female       1     0\n",
            "3    Penny        29  Female       1     0\n",
            "4      Raj        37    Male       0     1\n",
            "5  Sheldon        40    Male       0     1\n"
          ]
        }
      ]
    }
  ]
}